{
  "nbformat": 4,
  "nbformat_minor": 0,
  "metadata": {
    "colab": {
      "name": "DWDM Lab 1.ipynb",
      "provenance": [],
      "collapsed_sections": [],
      "include_colab_link": true
    },
    "kernelspec": {
      "name": "python3",
      "display_name": "Python 3"
    },
    "language_info": {
      "name": "python"
    }
  },
  "cells": [
    {
      "cell_type": "markdown",
      "metadata": {
        "id": "view-in-github",
        "colab_type": "text"
      },
      "source": [
        "<a href=\"https://colab.research.google.com/github/HrideshSingh/DWDMLabs/blob/main/DWDM_Lab_1.ipynb\" target=\"_parent\"><img src=\"https://colab.research.google.com/assets/colab-badge.svg\" alt=\"Open In Colab\"/></a>"
      ]
    },
    {
      "cell_type": "markdown",
      "source": [
        "# DWDM LAB 1"
      ],
      "metadata": {
        "id": "qu5Lqk24yypL"
      }
    },
    {
      "cell_type": "markdown",
      "source": [
        " 1. Calculate income tax for the given income by adhering to the below rules\n",
        " \n",
        " Taxable Income\t     Rate (%)\n",
        " \n",
        " First 5,00,000\t            0\n",
        " \n",
        " Second 7,50,000            10\n",
        " \n",
        " Third 10,00,000\t           20\n",
        " \n",
        " Remaining                  30"
      ],
      "metadata": {
        "id": "2w6v_QiSyrZK"
      }
    },
    {
      "cell_type": "code",
      "source": [
        "while True:\n",
        "    try:\n",
        "        income = int(input(\"Please input your income: \"))\n",
        "    except ValueError:\n",
        "        print(\"Please Enter a Input\")\n",
        "        continue\n",
        "    else:\n",
        "      break\n",
        "\n",
        "if income>=0:\n",
        "  if income <= 500000:   \n",
        "      tax = 0\n",
        "  elif income <= 750000: \n",
        "      tax = (income - 500000) * 0.10\n",
        "  elif income <= 1000000: \n",
        "      tax = (income - 750000) * 0.20 +  25000\n",
        "  elif income > 1000000:\n",
        "      tax = (income - 1000000) * 0.30 + 75000\n",
        "\n",
        "  print(\"Your income tax is: \",tax)\n",
        "else: \n",
        "  print(\"Please Enter a valid Input\")"
      ],
      "metadata": {
        "colab": {
          "base_uri": "https://localhost:8080/"
        },
        "id": "9F-jsoAmJoi8",
        "outputId": "a6cd83cc-8ed5-4575-d37c-f4b9f6f1fa24"
      },
      "execution_count": null,
      "outputs": [
        {
          "output_type": "stream",
          "name": "stdout",
          "text": [
            "Please input your income: 750000\n",
            "Your income tax is:  25000.0\n"
          ]
        }
      ]
    },
    {
      "cell_type": "markdown",
      "source": [
        "2. Write a code to extract each digit from an integer, in the reverse order\n",
        "\n",
        "  Expected Output: \n",
        "For example, if the given int is 7536, the output shall be “6\n",
        "3 5 7“, with a space separating the digits."
      ],
      "metadata": {
        "id": "YOoa4UHey8ma"
      }
    },
    {
      "cell_type": "code",
      "source": [
        "new_string = input(\"Please Give an Input: \")\n",
        "emp_str = \"\"\n",
        "for m in new_string:\n",
        "    if m.isdigit():\n",
        "        emp_str = emp_str + m\n",
        "num = int(emp_str)\n",
        "n=0\n",
        "while num>0:\n",
        "    a = num%10\n",
        "    num = num - a\n",
        "    num = num/10\n",
        "    print(int(a),end=\"\")"
      ],
      "metadata": {
        "colab": {
          "base_uri": "https://localhost:8080/"
        },
        "id": "LrXuYbrRSYdu",
        "outputId": "25498f8e-da82-4b44-91a7-bf8f2414d5e1"
      },
      "execution_count": null,
      "outputs": [
        {
          "output_type": "stream",
          "name": "stdout",
          "text": [
            "Please Give an Input: 7536\n",
            "6357"
          ]
        }
      ]
    },
    {
      "cell_type": "markdown",
      "source": [
        "3. Given a list iterate it and display numbers which are divisible by 5 and if you find number greater than 150 stop the loop iteration\n",
        "list1 = [12, 15, 32, 42, 55, 75, 122, 132, 150, 180, 200]\n",
        "\n",
        "  Expected output:\n",
        "15\n",
        "55\n",
        "75\n",
        "150"
      ],
      "metadata": {
        "id": "5k63ODOszVQN"
      }
    },
    {
      "cell_type": "code",
      "source": [
        "list1 = [12, 15, 32, 42, 55, 75, 122, 132, 150, 180, 200]\n",
        "for i in list1:\n",
        "  if i>150:\n",
        "    break\n",
        "  elif i%5==0:\n",
        "    print(i)"
      ],
      "metadata": {
        "colab": {
          "base_uri": "https://localhost:8080/"
        },
        "id": "_8iUAub3VoZ7",
        "outputId": "6ecfdaa0-4ace-48e0-f9a1-83cf8248822f"
      },
      "execution_count": null,
      "outputs": [
        {
          "output_type": "stream",
          "name": "stdout",
          "text": [
            "15\n",
            "55\n",
            "75\n",
            "150\n"
          ]
        }
      ]
    },
    {
      "cell_type": "markdown",
      "source": [
        "4. Create a function showEmployee() in such a way that it should accept employee name, \n",
        "and it’s salary and display both, and if the salary is missing in function call it should show it as 9000\n",
        "\n",
        "  Expected Output:\n",
        "showEmployee(\"Ben\", 9000)\n",
        "showEmployee(\"Ben\")\n",
        "Should Produce:\n",
        "Employee Ben salary is: 9000\n",
        "Employee Ben salary is: 9000"
      ],
      "metadata": {
        "id": "GuyVAIrTzfv4"
      }
    },
    {
      "cell_type": "code",
      "source": [
        "def func(employee, salary=9000):\n",
        "    print('Employee ',employee,'salary is: ', salary)\n",
        "\n",
        "func('Ben', 3000)\n",
        "func('Ben')"
      ],
      "metadata": {
        "colab": {
          "base_uri": "https://localhost:8080/"
        },
        "id": "c-5ffFSXWPS1",
        "outputId": "83848a53-3246-4187-ca3e-100054b97a70"
      },
      "execution_count": null,
      "outputs": [
        {
          "output_type": "stream",
          "name": "stdout",
          "text": [
            "Employee  Ben salary is:  3000\n",
            "Employee  Ben salary is:  9000\n"
          ]
        }
      ]
    },
    {
      "cell_type": "markdown",
      "source": [
        "  5.Count all lower case, upper case, digits, and special symbols from a given string\n",
        "\n",
        "  Given:\n",
        "  str1 = \"P@#yn26at^&i5ve\"\n",
        "\n",
        "  Expected Outcome:\n",
        "  \n",
        "  Total counts of chars, digits,and symbols \n",
        "  \n",
        "  Chars = 8 \n",
        "  \n",
        "  Digits = 3 \n",
        "  \n",
        "  Symbol = 4"
      ],
      "metadata": {
        "id": "lFsDR6yhz0DH"
      }
    },
    {
      "cell_type": "code",
      "source": [
        "def count_chars(str):\n",
        "     upper_ctr, lower_ctr, number_ctr, special_ctr = 0, 0, 0, 0\n",
        "     for i in range(len(str)):\n",
        "          if str[i] >= 'A' and str[i] <= 'Z': upper_ctr += 1\n",
        "          elif str[i] >= 'a' and str[i] <= 'z': lower_ctr += 1\n",
        "          elif str[i] >= '0' and str[i] <= '9': number_ctr += 1\n",
        "          else: special_ctr += 1\n",
        "     return upper_ctr, lower_ctr, number_ctr, special_ctr\n",
        "           \n",
        "str = \"DWDM@456571(&*(*^fsdfsd\"\n",
        "u, l, n, s = count_chars(str)\n",
        "print('Total counts of chars, digits,and symbols ')\n",
        "print('Chars = ',u+l)\n",
        "print('Digits = ',n)\n",
        "print('Symbol = ',s)"
      ],
      "metadata": {
        "colab": {
          "base_uri": "https://localhost:8080/"
        },
        "id": "VF8Ho0QQXesK",
        "outputId": "03c0b3d1-14c4-43dd-9297-2656673bb219"
      },
      "execution_count": null,
      "outputs": [
        {
          "output_type": "stream",
          "name": "stdout",
          "text": [
            "Total counts of chars, digits,and symbols \n",
            "Chars =  10\n",
            "Digits =  6\n",
            "Symbol =  7\n"
          ]
        }
      ]
    },
    {
      "cell_type": "markdown",
      "source": [
        "6. Given a string, return the sum and average of the digits that appear in the string, ignoring all other characters\n",
        "\n",
        "  Given:\n",
        "  \n",
        "  str1 = \"English = 78 Science = 83 Math = 68 History = 65\"\n",
        "\n",
        "  Expected Outcome:\n",
        "  \n",
        "  sum is 294\n",
        "  \n",
        "  average is 73.5"
      ],
      "metadata": {
        "id": "Vixbi1yj0AUU"
      }
    },
    {
      "cell_type": "code",
      "source": [
        "z = []\n",
        "s = 'English = 78 Science = 83 Math = 68 History = 65'\n",
        "for x in range(len(s)):\n",
        "    if s[x] in ['1', '2', '3', '4', '5', '6', '7', '8', '9', '0']:\n",
        "        if x == 0:\n",
        "            z.append(s[x])\n",
        "        elif s[x - 1] in ['1', '2', '3', '4', '5', '6', '7', '8', '9', '0']:\n",
        "            z[-1] += s[x]\n",
        "        else:\n",
        "            z.append(s[x])\n",
        "\n",
        "k = 0\n",
        "for n in z:\n",
        "    k += int(n)\n",
        "print('sum is ',k)\n",
        "print('average is ',k / len(z))"
      ],
      "metadata": {
        "colab": {
          "base_uri": "https://localhost:8080/"
        },
        "id": "o90YVRGCZOOt",
        "outputId": "47f75441-763d-4181-87ad-ec0032900832"
      },
      "execution_count": null,
      "outputs": [
        {
          "output_type": "stream",
          "name": "stdout",
          "text": [
            "sum is  294\n",
            "average is  73.5\n"
          ]
        }
      ]
    },
    {
      "cell_type": "markdown",
      "source": [
        "7. Given a two list. Create a third list by picking an odd-index element from the first list and even index elements from second.\n",
        "\n",
        "  For Example:\n",
        "\n",
        "  listOne = [3, 6, 9, 12, 15, 18, 21]\n",
        "\n",
        "  listTwo = [4, 8, 12, 16, 20, 24, 28]\n",
        "\n",
        "  Expected Output:\n",
        "\n",
        "  Element at odd-index positions from list one\n",
        "  \n",
        "  [6, 12, 18]\n",
        "\n",
        "  Element at even-index positions from list two\n",
        "  \n",
        "  [4, 12, 20, 28]\n",
        "\n",
        "  Printing Final third list\n",
        "  \n",
        "  [6, 12, 18, 4, 12, 20, 28]"
      ],
      "metadata": {
        "id": "pTHztVsQ0P2l"
      }
    },
    {
      "cell_type": "code",
      "source": [
        "\n",
        "l1 = [3, 6, 9, 12, 15, 18, 21]\n",
        "l2 = [4, 8, 12, 16, 20, 24, 28]\n",
        "l3 = list()\n",
        "\n",
        "odd = l1[1::2]\n",
        "print(\"Element at odd-index positions from list one\")\n",
        "print(odd)\n",
        "\n",
        "even = l2[0::2]\n",
        "print(\"Element at odd-index positions from list two\")\n",
        "print(even)\n",
        "\n",
        "print(\"Final third list\")\n",
        "l3.extend(odd)\n",
        "l3.extend(even)\n",
        "print(l3)"
      ],
      "metadata": {
        "colab": {
          "base_uri": "https://localhost:8080/"
        },
        "id": "xoJjotdmaMYJ",
        "outputId": "ec67af25-23aa-41a1-c40c-6b7ef2ab433f"
      },
      "execution_count": null,
      "outputs": [
        {
          "output_type": "stream",
          "name": "stdout",
          "text": [
            "Element at odd-index positions from list one\n",
            "[6, 12, 18]\n",
            "Element at odd-index positions from list two\n",
            "[4, 12, 20, 28]\n",
            "Final third list\n",
            "[6, 12, 18, 4, 12, 20, 28]\n"
          ]
        }
      ]
    },
    {
      "cell_type": "markdown",
      "source": [
        "8. Given a two list of equal size create a set such that it shows the element from both lists in the pair\n",
        "\n",
        "  Expected Output:\n",
        "\n",
        "  First List  [2, 3, 4, 5, 6, 7, 8]\n",
        "\n",
        "  Second List  [4, 9, 16, 25, 36, 49, 64]\n",
        "\n",
        "  Result is  {(6, 36), (8, 64), (4, 16), (5, 25), (3, 9), (7, 49), (2, 4)}"
      ],
      "metadata": {
        "id": "bfXQLWhO01Q6"
      }
    },
    {
      "cell_type": "code",
      "source": [
        "l1 = [2, 3, 4, 5, 6, 7, 8]\n",
        "print(\"First List \", l1)\n",
        "\n",
        "l2 = [4, 9, 16, 25, 36, 49, 64]\n",
        "print(\"Second List \", l2)\n",
        "\n",
        "result = zip(l1, l2)\n",
        "result_set = set(result)\n",
        "print(result_set)"
      ],
      "metadata": {
        "colab": {
          "base_uri": "https://localhost:8080/"
        },
        "id": "OVyGSqFlbZB7",
        "outputId": "bf16af8f-9c2e-4241-bd95-343f2e32756a"
      },
      "execution_count": null,
      "outputs": [
        {
          "output_type": "stream",
          "name": "stdout",
          "text": [
            "First List  [2, 3, 4, 5, 6, 7, 8]\n",
            "Second List  [4, 9, 16, 25, 36, 49, 64]\n",
            "{(6, 36), (8, 64), (4, 16), (5, 25), (3, 9), (7, 49), (2, 4)}\n"
          ]
        }
      ]
    },
    {
      "cell_type": "markdown",
      "source": [
        "9. Given a dictionary get all values from the dictionary and add it in a list but don’t add duplicates.\n",
        "\n",
        "  speed ={'jan':47, 'feb':52, 'march':47, 'April':44, 'May':52, 'June':53, \n",
        "  'july':54, 'Aug':44, 'Sept':54}\n",
        "\n",
        "  Expected Outcome: [47, 52, 44, 53, 54]"
      ],
      "metadata": {
        "id": "IBYiRsAN0_Kq"
      }
    },
    {
      "cell_type": "code",
      "source": [
        "l1 = {'jan': 47, 'feb': 52, 'march': 47, 'April': 44, 'May': 52, 'June': 53,\n",
        "         'july': 54, 'Aug': 44, 'Sept': 54}\n",
        "\n",
        "l2 = list()\n",
        "for val in l1.values():\n",
        "    if val not in l2:\n",
        "        l2.append(val)\n",
        "print(l2)"
      ],
      "metadata": {
        "colab": {
          "base_uri": "https://localhost:8080/"
        },
        "id": "vczJJnTObzVS",
        "outputId": "a7f97d3f-9a1e-4e43-d3c1-5bb79e2cbb73"
      },
      "execution_count": null,
      "outputs": [
        {
          "output_type": "stream",
          "name": "stdout",
          "text": [
            "[47, 52, 44, 53, 54]\n"
          ]
        }
      ]
    },
    {
      "cell_type": "markdown",
      "source": [
        "10. Remove duplicate from a list and create a tuple and find the minimum and maximum number.\n",
        "\n",
        "  For Example:\n",
        "\n",
        "  sampleList = [87, 45, 41, 65, 94, 41, 99, 94]\n",
        "\n",
        "  Expected Outcome:\n",
        "\n",
        "  unique items [87, 45, 41, 65, 99]\n",
        "\n",
        "  tuple (87, 45, 41, 65, 99)\n",
        "\n",
        "  min: 41\n",
        "\n",
        "  max: 99"
      ],
      "metadata": {
        "id": "XFo1bF4a1L-i"
      }
    },
    {
      "cell_type": "code",
      "source": [
        "l1 = [87, 45, 41, 65, 94, 41, 99, 94]\n",
        "\n",
        "l1 = list(set(l1))\n",
        "print(\"unique items\", l1)\n",
        "\n",
        "t = tuple(l1)\n",
        "print(\"tuple \", t)\n",
        "\n",
        "print(\"min \", min(t))\n",
        "print(\"max \", max(t))"
      ],
      "metadata": {
        "colab": {
          "base_uri": "https://localhost:8080/"
        },
        "id": "AzTYjJo_cVUS",
        "outputId": "d277ee1b-5865-43bf-a18b-b625bf0945d8"
      },
      "execution_count": null,
      "outputs": [
        {
          "output_type": "stream",
          "name": "stdout",
          "text": [
            "unique items [65, 99, 41, 45, 87, 94]\n",
            "tuple  (65, 99, 41, 45, 87, 94)\n",
            "min  41\n",
            "max  99\n"
          ]
        }
      ]
    }
  ]
}